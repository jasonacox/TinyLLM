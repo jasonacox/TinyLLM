{
 "cells": [
  {
   "cell_type": "code",
   "execution_count": null,
   "metadata": {},
   "outputs": [],
   "source": [
    "from documents import Documents\n",
    "import json\n",
    "\n",
    "\n",
    "            \n",
    "file_path=\"\"\n",
    "title=\"\"\n",
    "docs = Documents(file_path)\n",
    "\n",
    "#Choose between 'recursive' 'fine_tuned_slm' and 'original' chunking\n",
    "#Alternatively use llmsherpa at the bottom of the notebook\n",
    "\n",
    "recursive_chunks=docs.add_file(\"recursive\",\"test\", title, file_path, file_path,chunk_size=1024)\n",
    "\n",
    "with open(\"recursive_chunks.json\", \"w\") as f:\n",
    "    json.dump(recursive_chunks, f, indent=2)\n",
    "\n",
    "fine_tuned_slm_chunks=docs.add_file(\"fine_tuned_slm\",\"test\", title, file_path, file_path,chunk_size=1024)\n",
    "\n",
    "with open(\"fine_tuned_slm_chunks.json\", \"w\") as f:\n",
    "    json.dump(fine_tuned_slm_chunks, f, indent=2)"
   ]
  },
  {
   "cell_type": "code",
   "execution_count": 4,
   "metadata": {},
   "outputs": [],
   "source": [
    "from ipytree import Tree, Node\n",
    "\n",
    "def create_tree(data, name='root'):\n",
    "    node = Node(name)\n",
    "    if isinstance(data, dict):\n",
    "        for key, value in data.items():\n",
    "            node.add_node(create_tree(value, key))\n",
    "    elif isinstance(data, list):\n",
    "        for i, item in enumerate(data):\n",
    "            node.add_node(create_tree(item, f'item_{i}'))\n",
    "    else:\n",
    "        node.name = f'{name}: {data}'\n",
    "    return node"
   ]
  },
  {
   "cell_type": "code",
   "execution_count": null,
   "metadata": {},
   "outputs": [],
   "source": [
    "\n",
    "tree = Tree(name=\"Recursive Chunking\")\n",
    "#tree.add_node(create_tree(chunks))\n",
    "root_node = create_tree(recursive_chunks, \"Recursive Chunking\")\n",
    "tree.add_node(root_node)\n",
    "display(tree)\n",
    "\n",
    "tree2 = Tree(name=\"Fine Tuned SLM Chunking\")\n",
    "#tree.add_node(create_tree(chunks))\n",
    "root_node2 = create_tree(fine_tuned_slm_chunks, \"Fine Tuned SLM Chunking\")\n",
    "tree2.add_node(root_node2)\n",
    "display(tree2)"
   ]
  },
  {
   "cell_type": "markdown",
   "metadata": {},
   "source": [
    "llmsherpa: https://github.com/nlmatics/llmsherpa?tab=readme-ov-file.  \n",
    "The nlm-ingestor server is located here: https://github.com/nlmatics/nlm-ingestor \n",
    "Write up: https://ambikasukla.substack.com/p/efficient-rag-with-document-layout?r=ft8uc&utm_campaign=post&utm_medium=web&triedRedirect=true"
   ]
  },
  {
   "cell_type": "code",
   "execution_count": null,
   "metadata": {},
   "outputs": [],
   "source": [
    "from llmsherpa.readers import LayoutPDFReader\n",
    "from IPython.core.display import display, HTML\n",
    "import os\n",
    "\n",
    "\n",
    "llmsherpa_api_url = \"http://localhost:5010/api/parseDocument\"#?renderFormat=all&useNewIndentParser=true\"\n",
    "# pdf_url = \"https://arxiv.org/pdf/1910.13461.pdf\" # also allowed is a file path e.g. /home/downloads/xyz.pdf\n",
    "# pdf_url = \"https://www.apache.org/licenses/LICENSE-2.0.txt\"\n",
    "# pdf_url = \"https://microsoft.gcs-web.com/static-files/931d7780-ccfc-47e3-97ad-09d87e12b795\"\n",
    "# pdf_url = \"https://podcasts.ceu.edu/sites/podcasts.ceu.edu/files/sample.doc\"\n",
    "# pdf_url = \"/Users/ambikasukla/projects/data/Kubernetes.docx\"\n",
    "#pdf_url = \"https://en.wikipedia.org/wiki/Language_model\"\n",
    "\n",
    "file_path=\"\"\n",
    "#pdf_url = \"https://github.com/nlmatics/nlm-ingestor\"\n",
    "# pdf_url = \"https://raw.githubusercontent.com/nlmatics/llmsherpa/main/README.md\"\n",
    "# pdf_url = \"https://eutils.ncbi.nlm.nih.gov/entrez/eutils/esummary.fcgi?db=pubmed&id=35362092&retmode=xml\"\n",
    "# pdf_url = \"https://solutions.weblite.ca/pdfocrx/scansmpl.pdf\"\n",
    "do_ocr = True\n",
    "#if do_ocr:\n",
    "#    llmsherpa_api_url = llmsherpa_api_url + \"&applyOcr=yes\"\n",
    "pdf_reader = LayoutPDFReader(llmsherpa_api_url)\n",
    "doc = pdf_reader.read_pdf(file_path)"
   ]
  },
  {
   "cell_type": "code",
   "execution_count": null,
   "metadata": {},
   "outputs": [],
   "source": [
    "sections = doc.sections()\n",
    "section_list = [section.to_text() for section in sections]\n",
    "\n",
    "with open(\"llmsherpa_chunks.json\", \"w\") as f:\n",
    "    json.dump(section_list, f, indent=2)\n",
    "\n",
    "tree3 = Tree(name=\"LLMsherpa Sections\")\n",
    "\n",
    "root_node3 = create_tree(fine_tuned_slm_chunks, \"LLMsherpa Sections\")\n",
    "tree3.add_node(root_node3)\n",
    "display(tree3)\n"
   ]
  },
  {
   "cell_type": "code",
   "execution_count": null,
   "metadata": {},
   "outputs": [],
   "source": [
    "from ipytree import Tree, Node\n",
    "\n",
    "def create_tree(data, name='root'):\n",
    "    if isinstance(data, dict):\n",
    "        node = Node(name)\n",
    "        for key, value in data.items():\n",
    "            if key == 'chunks':\n",
    "                for chunk in value:\n",
    "                    chunk_node = Node(f\"{chunk['title']}: {chunk['text'][:50]}...\")\n",
    "                    node.add_node(chunk_node)\n",
    "            else:\n",
    "                node.add_node(create_tree(value, key))\n",
    "    elif isinstance(data, list):\n",
    "        node = Node(name)\n",
    "        for i, item in enumerate(data):\n",
    "            node.add_node(create_tree(item, f'item_{i}'))\n",
    "    else:\n",
    "        node = Node(f'{name}: {data}')\n",
    "    return node\n",
    "\n",
    "# Assume 'doc' is your LLMSherpa document object\n",
    "sections = doc.sections()\n",
    "\n",
    "# Process sections and chunks\n",
    "processed_data = {\n",
    "    \"Document\": {\n",
    "        section.title: {\n",
    "            \"chunks\": [\n",
    "                {\"title\": section.title, \"text\": chunk.to_text()}\n",
    "                for chunk in section.chunks()\n",
    "            ]\n",
    "        }\n",
    "        for section in sections\n",
    "    }\n",
    "}\n",
    "\n",
    "# Create the tree\n",
    "root_node = Node(\"Document Structure\")\n",
    "data_node = create_tree(processed_data, \"Sections\")\n",
    "root_node.add_node(data_node)\n",
    "\n",
    "# Create and display the tree\n",
    "tree = Tree()\n",
    "tree.add_node(root_node)\n",
    "display(tree)"
   ]
  }
 ],
 "metadata": {
  "kernelspec": {
   "display_name": "devenv",
   "language": "python",
   "name": "python3"
  },
  "language_info": {
   "codemirror_mode": {
    "name": "ipython",
    "version": 3
   },
   "file_extension": ".py",
   "mimetype": "text/x-python",
   "name": "python",
   "nbconvert_exporter": "python",
   "pygments_lexer": "ipython3",
   "version": "3.12.4"
  }
 },
 "nbformat": 4,
 "nbformat_minor": 2
}
